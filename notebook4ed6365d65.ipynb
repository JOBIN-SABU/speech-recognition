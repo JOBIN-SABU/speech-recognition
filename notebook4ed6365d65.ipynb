{
 "cells": [
  {
   "cell_type": "code",
   "execution_count": 1,
   "id": "24a3c25f",
   "metadata": {
    "_cell_guid": "b1076dfc-b9ad-4769-8c92-a6c4dae69d19",
    "_uuid": "8f2839f25d086af736a60e9eeb907d3b93b6e0e5",
    "execution": {
     "iopub.execute_input": "2025-01-11T13:10:14.806830Z",
     "iopub.status.busy": "2025-01-11T13:10:14.806439Z",
     "iopub.status.idle": "2025-01-11T13:10:15.273758Z",
     "shell.execute_reply": "2025-01-11T13:10:15.272482Z"
    },
    "papermill": {
     "duration": 0.477388,
     "end_time": "2025-01-11T13:10:15.275832",
     "exception": false,
     "start_time": "2025-01-11T13:10:14.798444",
     "status": "completed"
    },
    "tags": []
   },
   "outputs": [
    {
     "name": "stdout",
     "output_type": "stream",
     "text": [
      "/kaggle/input/speech-emotion-recognition/dataset_info.csv\n",
      "/kaggle/input/speech-emotion-recognition/files/00026029e0--64991b72e0daf97163c09c66/euphoric.wav\n",
      "/kaggle/input/speech-emotion-recognition/files/00026029e0--64991b72e0daf97163c09c66/joyfully.wav\n",
      "/kaggle/input/speech-emotion-recognition/files/00026029e0--64991b72e0daf97163c09c66/sad.wav\n",
      "/kaggle/input/speech-emotion-recognition/files/00026029e0--64991b72e0daf97163c09c66/surprised.wav\n",
      "/kaggle/input/speech-emotion-recognition/files/00026029e0--64991c3e63d8b20f56d0eeba/euphoric.wav\n",
      "/kaggle/input/speech-emotion-recognition/files/00026029e0--64991c3e63d8b20f56d0eeba/joyfully.wav\n",
      "/kaggle/input/speech-emotion-recognition/files/00026029e0--64991c3e63d8b20f56d0eeba/sad.wav\n",
      "/kaggle/input/speech-emotion-recognition/files/00026029e0--64991c3e63d8b20f56d0eeba/surprised.wav\n",
      "/kaggle/input/speech-emotion-recognition/files/00026029e0--64992143ffab6240f9f3787a/euphoric.wav\n",
      "/kaggle/input/speech-emotion-recognition/files/00026029e0--64992143ffab6240f9f3787a/joyfully.wav\n",
      "/kaggle/input/speech-emotion-recognition/files/00026029e0--64992143ffab6240f9f3787a/sad.wav\n",
      "/kaggle/input/speech-emotion-recognition/files/00026029e0--64992143ffab6240f9f3787a/surprised.wav\n",
      "/kaggle/input/speech-emotion-recognition/files/00026029e0--6499205bea5ed167d5bc8a8c/joyfully.amr\n",
      "/kaggle/input/speech-emotion-recognition/files/00026029e0--6499205bea5ed167d5bc8a8c/euphoric.amr\n",
      "/kaggle/input/speech-emotion-recognition/files/00026029e0--6499205bea5ed167d5bc8a8c/surprised.amr\n",
      "/kaggle/input/speech-emotion-recognition/files/00026029e0--6499205bea5ed167d5bc8a8c/sad.amr\n",
      "/kaggle/input/speech-emotion-recognition/files/00026029e0--6499226eef1fe70609d66276/euphoric.wav\n",
      "/kaggle/input/speech-emotion-recognition/files/00026029e0--6499226eef1fe70609d66276/joyfully.wav\n",
      "/kaggle/input/speech-emotion-recognition/files/00026029e0--6499226eef1fe70609d66276/sad.wav\n",
      "/kaggle/input/speech-emotion-recognition/files/00026029e0--6499226eef1fe70609d66276/surprised.wav\n",
      "/kaggle/input/speech-emotion-recognition/files/00026029e0--64991bfc63d8b20f56d0e1fb/euphoric.wav\n",
      "/kaggle/input/speech-emotion-recognition/files/00026029e0--64991bfc63d8b20f56d0e1fb/joyfully.wav\n",
      "/kaggle/input/speech-emotion-recognition/files/00026029e0--64991bfc63d8b20f56d0e1fb/sad.wav\n",
      "/kaggle/input/speech-emotion-recognition/files/00026029e0--64991bfc63d8b20f56d0e1fb/surprised.wav\n",
      "/kaggle/input/speech-emotion-recognition/files/00026029e0--649920f4ffab6240f9f3677a/euphoric.wav\n",
      "/kaggle/input/speech-emotion-recognition/files/00026029e0--649920f4ffab6240f9f3677a/joyfully.wav\n",
      "/kaggle/input/speech-emotion-recognition/files/00026029e0--649920f4ffab6240f9f3677a/sad.wav\n",
      "/kaggle/input/speech-emotion-recognition/files/00026029e0--649920f4ffab6240f9f3677a/surprised.wav\n",
      "/kaggle/input/speech-emotion-recognition/files/00026029e0--64992044d94c0d5726dfffc7/euphoric.wav\n",
      "/kaggle/input/speech-emotion-recognition/files/00026029e0--64992044d94c0d5726dfffc7/joyfully.wav\n",
      "/kaggle/input/speech-emotion-recognition/files/00026029e0--64992044d94c0d5726dfffc7/sad.wav\n",
      "/kaggle/input/speech-emotion-recognition/files/00026029e0--64992044d94c0d5726dfffc7/surprised.wav\n",
      "/kaggle/input/speech-emotion-recognition/files/00026029e0--64992099ffab6240f9f3521f/euphoric.wav\n",
      "/kaggle/input/speech-emotion-recognition/files/00026029e0--64992099ffab6240f9f3521f/joyfully.wav\n",
      "/kaggle/input/speech-emotion-recognition/files/00026029e0--64992099ffab6240f9f3521f/sad.wav\n",
      "/kaggle/input/speech-emotion-recognition/files/00026029e0--64992099ffab6240f9f3521f/surprised.wav\n",
      "/kaggle/input/speech-emotion-recognition/files/00026029e0--6499219aea5ed167d5bccf6f/joyfully.amr\n",
      "/kaggle/input/speech-emotion-recognition/files/00026029e0--6499219aea5ed167d5bccf6f/euphoric.amr\n",
      "/kaggle/input/speech-emotion-recognition/files/00026029e0--6499219aea5ed167d5bccf6f/surprised.amr\n",
      "/kaggle/input/speech-emotion-recognition/files/00026029e0--6499219aea5ed167d5bccf6f/sad.amr\n",
      "/kaggle/input/speech-emotion-recognition/files/00026029e0--64992202ea5ed167d5bce5d3/euphoric.wav\n",
      "/kaggle/input/speech-emotion-recognition/files/00026029e0--64992202ea5ed167d5bce5d3/joyfully.wav\n",
      "/kaggle/input/speech-emotion-recognition/files/00026029e0--64992202ea5ed167d5bce5d3/sad.wav\n",
      "/kaggle/input/speech-emotion-recognition/files/00026029e0--64992202ea5ed167d5bce5d3/surprised.wav\n",
      "/kaggle/input/speech-emotion-recognition/files/00026029e0--64991c9e7f82d97639452402/euphoric.wav\n",
      "/kaggle/input/speech-emotion-recognition/files/00026029e0--64991c9e7f82d97639452402/joyfully.wav\n",
      "/kaggle/input/speech-emotion-recognition/files/00026029e0--64991c9e7f82d97639452402/sad.wav\n",
      "/kaggle/input/speech-emotion-recognition/files/00026029e0--64991c9e7f82d97639452402/surprised.wav\n",
      "/kaggle/input/speech-emotion-recognition/files/00026029e0--6499261299d64c4c5d32c8e2/euphoric.wav\n",
      "/kaggle/input/speech-emotion-recognition/files/00026029e0--6499261299d64c4c5d32c8e2/joyfully.wav\n",
      "/kaggle/input/speech-emotion-recognition/files/00026029e0--6499261299d64c4c5d32c8e2/sad.wav\n",
      "/kaggle/input/speech-emotion-recognition/files/00026029e0--6499261299d64c4c5d32c8e2/surprised.wav\n",
      "/kaggle/input/speech-emotion-recognition/files/00026029e0--64991b7fd94c0d5726dec353/euphoric.wav\n",
      "/kaggle/input/speech-emotion-recognition/files/00026029e0--64991b7fd94c0d5726dec353/joyfully.wav\n",
      "/kaggle/input/speech-emotion-recognition/files/00026029e0--64991b7fd94c0d5726dec353/joyfully(1).wav\n",
      "/kaggle/input/speech-emotion-recognition/files/00026029e0--64991b7fd94c0d5726dec353/sad.wav\n",
      "/kaggle/input/speech-emotion-recognition/files/00026029e0--64991b7fd94c0d5726dec353/surprised.wav\n",
      "/kaggle/input/speech-emotion-recognition/files/00026029e0--64991bf2ffab6240f9f2418b/sad.mpeg\n",
      "/kaggle/input/speech-emotion-recognition/files/00026029e0--64991bf2ffab6240f9f2418b/euphoric.mpeg\n",
      "/kaggle/input/speech-emotion-recognition/files/00026029e0--64991bf2ffab6240f9f2418b/joyfully.mpeg\n",
      "/kaggle/input/speech-emotion-recognition/files/00026029e0--64991bf2ffab6240f9f2418b/surprised.mpeg\n",
      "/kaggle/input/speech-emotion-recognition/files/00026029e0--64991b6eef1fe70609d48edc/euphoric.wav\n",
      "/kaggle/input/speech-emotion-recognition/files/00026029e0--64991b6eef1fe70609d48edc/joyfully.wav\n",
      "/kaggle/input/speech-emotion-recognition/files/00026029e0--64991b6eef1fe70609d48edc/sad.wav\n",
      "/kaggle/input/speech-emotion-recognition/files/00026029e0--64991b6eef1fe70609d48edc/surprised.wav\n",
      "/kaggle/input/speech-emotion-recognition/files/00026029e0--64991b907f82d9763944eba2/euphoric.wav\n",
      "/kaggle/input/speech-emotion-recognition/files/00026029e0--64991b907f82d9763944eba2/joyfully.wav\n",
      "/kaggle/input/speech-emotion-recognition/files/00026029e0--64991b907f82d9763944eba2/sad.wav\n",
      "/kaggle/input/speech-emotion-recognition/files/00026029e0--64991b907f82d9763944eba2/surprised.wav\n",
      "/kaggle/input/speech-emotion-recognition/files/00026029e0--64992031e0daf97163c20229/euphoric.wav\n",
      "/kaggle/input/speech-emotion-recognition/files/00026029e0--64992031e0daf97163c20229/joyfully.wav\n",
      "/kaggle/input/speech-emotion-recognition/files/00026029e0--64992031e0daf97163c20229/sad.wav\n",
      "/kaggle/input/speech-emotion-recognition/files/00026029e0--64992031e0daf97163c20229/surprised.wav\n",
      "/kaggle/input/speech-emotion-recognition/files/00026029e0--64991c0dd94c0d5726df032a/euphoric.wav\n",
      "/kaggle/input/speech-emotion-recognition/files/00026029e0--64991c0dd94c0d5726df032a/joyfully.wav\n",
      "/kaggle/input/speech-emotion-recognition/files/00026029e0--64991c0dd94c0d5726df032a/sad.wav\n",
      "/kaggle/input/speech-emotion-recognition/files/00026029e0--64991c0dd94c0d5726df032a/surprised.wav\n",
      "/kaggle/input/speech-emotion-recognition/files/00026029e0--64992161e0daf97163c2535a/euphoric.wav\n",
      "/kaggle/input/speech-emotion-recognition/files/00026029e0--64992161e0daf97163c2535a/joyfully.wav\n",
      "/kaggle/input/speech-emotion-recognition/files/00026029e0--64992161e0daf97163c2535a/sad.wav\n",
      "/kaggle/input/speech-emotion-recognition/files/00026029e0--64992161e0daf97163c2535a/surprised.wav\n"
     ]
    }
   ],
   "source": [
    "# This Python 3 environment comes with many helpful analytics libraries installed\n",
    "# It is defined by the kaggle/python Docker image: https://github.com/kaggle/docker-python\n",
    "# For example, here's several helpful packages to load\n",
    "\n",
    "import numpy as np # linear algebra\n",
    "import pandas as pd # data processing, CSV file I/O (e.g. pd.read_csv)\n",
    "\n",
    "# Input data files are available in the read-only \"../input/\" directory\n",
    "# For example, running this (by clicking run or pressing Shift+Enter) will list all files under the input directory\n",
    "\n",
    "import os\n",
    "for dirname, _, filenames in os.walk('/kaggle/input'):\n",
    "    for filename in filenames:\n",
    "        print(os.path.join(dirname, filename))\n",
    "\n",
    "# You can write up to 20GB to the current directory (/kaggle/working/) that gets preserved as output when you create a version using \"Save & Run All\" \n",
    "# You can also write temporary files to /kaggle/temp/, but they won't be saved outside of the current session"
   ]
  },
  {
   "cell_type": "code",
   "execution_count": 2,
   "id": "7506fd81",
   "metadata": {
    "execution": {
     "iopub.execute_input": "2025-01-11T13:10:15.290826Z",
     "iopub.status.busy": "2025-01-11T13:10:15.290317Z",
     "iopub.status.idle": "2025-01-11T13:10:15.312627Z",
     "shell.execute_reply": "2025-01-11T13:10:15.311308Z"
    },
    "papermill": {
     "duration": 0.031773,
     "end_time": "2025-01-11T13:10:15.314353",
     "exception": false,
     "start_time": "2025-01-11T13:10:15.282580",
     "status": "completed"
    },
    "tags": []
   },
   "outputs": [
    {
     "name": "stdout",
     "output_type": "stream",
     "text": [
      "                     ;set_id;text;gender;age;country\n",
      "0  0;00026029e0--64991b6eef1fe70609d48edc;The del...\n",
      "1  1;00026029e0--64991b72e0daf97163c09c66;I enjoy...\n",
      "2  2;00026029e0--64991b7fd94c0d5726dec353;The sus...\n",
      "3  3;00026029e0--64991b907f82d9763944eba2;They ce...\n",
      "4  4;00026029e0--64991bf2ffab6240f9f2418b;The dil...\n"
     ]
    }
   ],
   "source": [
    "import pandas as pd\n",
    "\n",
    "# Load the CSV file\n",
    "metadata = pd.read_csv('/kaggle/input/speech-emotion-recognition/dataset_info.csv')\n",
    "print(metadata.head())\n"
   ]
  },
  {
   "cell_type": "code",
   "execution_count": 3,
   "id": "71ac7d97",
   "metadata": {
    "execution": {
     "iopub.execute_input": "2025-01-11T13:10:15.327905Z",
     "iopub.status.busy": "2025-01-11T13:10:15.327532Z",
     "iopub.status.idle": "2025-01-11T13:10:15.336333Z",
     "shell.execute_reply": "2025-01-11T13:10:15.335099Z"
    },
    "papermill": {
     "duration": 0.017471,
     "end_time": "2025-01-11T13:10:15.338010",
     "exception": false,
     "start_time": "2025-01-11T13:10:15.320539",
     "status": "completed"
    },
    "tags": []
   },
   "outputs": [],
   "source": [
    "# Rename columns\n",
    "metadata = metadata.rename(columns={'set_id': 'Set ID', 'text': 'Text', 'gender': 'Gender', 'age': 'Age', 'country': 'Country'})\n",
    "\n"
   ]
  },
  {
   "cell_type": "code",
   "execution_count": 4,
   "id": "bc0206d4",
   "metadata": {
    "execution": {
     "iopub.execute_input": "2025-01-11T13:10:15.351897Z",
     "iopub.status.busy": "2025-01-11T13:10:15.351495Z",
     "iopub.status.idle": "2025-01-11T13:10:15.363651Z",
     "shell.execute_reply": "2025-01-11T13:10:15.362352Z"
    },
    "papermill": {
     "duration": 0.021091,
     "end_time": "2025-01-11T13:10:15.365562",
     "exception": false,
     "start_time": "2025-01-11T13:10:15.344471",
     "status": "completed"
    },
    "tags": []
   },
   "outputs": [
    {
     "data": {
      "text/html": [
       "<div>\n",
       "<style scoped>\n",
       "    .dataframe tbody tr th:only-of-type {\n",
       "        vertical-align: middle;\n",
       "    }\n",
       "\n",
       "    .dataframe tbody tr th {\n",
       "        vertical-align: top;\n",
       "    }\n",
       "\n",
       "    .dataframe thead th {\n",
       "        text-align: right;\n",
       "    }\n",
       "</style>\n",
       "<table border=\"1\" class=\"dataframe\">\n",
       "  <thead>\n",
       "    <tr style=\"text-align: right;\">\n",
       "      <th></th>\n",
       "      <th>;set_id;text;gender;age;country</th>\n",
       "    </tr>\n",
       "  </thead>\n",
       "  <tbody>\n",
       "    <tr>\n",
       "      <th>0</th>\n",
       "      <td>0;00026029e0--64991b6eef1fe70609d48edc;The del...</td>\n",
       "    </tr>\n",
       "    <tr>\n",
       "      <th>1</th>\n",
       "      <td>1;00026029e0--64991b72e0daf97163c09c66;I enjoy...</td>\n",
       "    </tr>\n",
       "    <tr>\n",
       "      <th>2</th>\n",
       "      <td>2;00026029e0--64991b7fd94c0d5726dec353;The sus...</td>\n",
       "    </tr>\n",
       "    <tr>\n",
       "      <th>3</th>\n",
       "      <td>3;00026029e0--64991b907f82d9763944eba2;They ce...</td>\n",
       "    </tr>\n",
       "    <tr>\n",
       "      <th>4</th>\n",
       "      <td>4;00026029e0--64991bf2ffab6240f9f2418b;The dil...</td>\n",
       "    </tr>\n",
       "    <tr>\n",
       "      <th>5</th>\n",
       "      <td>5;00026029e0--64991bfc63d8b20f56d0e1fb;The rhy...</td>\n",
       "    </tr>\n",
       "    <tr>\n",
       "      <th>6</th>\n",
       "      <td>6;00026029e0--64991c0dd94c0d5726df032a;The cur...</td>\n",
       "    </tr>\n",
       "    <tr>\n",
       "      <th>7</th>\n",
       "      <td>7;00026029e0--64991c3e63d8b20f56d0eeba;The inn...</td>\n",
       "    </tr>\n",
       "    <tr>\n",
       "      <th>8</th>\n",
       "      <td>8;00026029e0--64991c9e7f82d97639452402;The inn...</td>\n",
       "    </tr>\n",
       "    <tr>\n",
       "      <th>9</th>\n",
       "      <td>9;00026029e0--64992031e0daf97163c20229;The bre...</td>\n",
       "    </tr>\n",
       "    <tr>\n",
       "      <th>10</th>\n",
       "      <td>10;00026029e0--64992044d94c0d5726dfffc7;His ch...</td>\n",
       "    </tr>\n",
       "    <tr>\n",
       "      <th>11</th>\n",
       "      <td>11;00026029e0--6499205bea5ed167d5bc8a8c;The de...</td>\n",
       "    </tr>\n",
       "    <tr>\n",
       "      <th>12</th>\n",
       "      <td>12;00026029e0--64992099ffab6240f9f3521f;The vi...</td>\n",
       "    </tr>\n",
       "    <tr>\n",
       "      <th>13</th>\n",
       "      <td>13;00026029e0--649920f4ffab6240f9f3677a;The he...</td>\n",
       "    </tr>\n",
       "    <tr>\n",
       "      <th>14</th>\n",
       "      <td>14;00026029e0--64992143ffab6240f9f3787a;She wo...</td>\n",
       "    </tr>\n",
       "    <tr>\n",
       "      <th>15</th>\n",
       "      <td>15;00026029e0--64992161e0daf97163c2535a;They c...</td>\n",
       "    </tr>\n",
       "    <tr>\n",
       "      <th>16</th>\n",
       "      <td>16;00026029e0--6499219aea5ed167d5bccf6f;The cu...</td>\n",
       "    </tr>\n",
       "    <tr>\n",
       "      <th>17</th>\n",
       "      <td>17;00026029e0--64992202ea5ed167d5bce5d3;The st...</td>\n",
       "    </tr>\n",
       "    <tr>\n",
       "      <th>18</th>\n",
       "      <td>18;00026029e0--6499226eef1fe70609d66276;The at...</td>\n",
       "    </tr>\n",
       "    <tr>\n",
       "      <th>19</th>\n",
       "      <td>19;00026029e0--6499261299d64c4c5d32c8e2;The ta...</td>\n",
       "    </tr>\n",
       "  </tbody>\n",
       "</table>\n",
       "</div>"
      ],
      "text/plain": [
       "                      ;set_id;text;gender;age;country\n",
       "0   0;00026029e0--64991b6eef1fe70609d48edc;The del...\n",
       "1   1;00026029e0--64991b72e0daf97163c09c66;I enjoy...\n",
       "2   2;00026029e0--64991b7fd94c0d5726dec353;The sus...\n",
       "3   3;00026029e0--64991b907f82d9763944eba2;They ce...\n",
       "4   4;00026029e0--64991bf2ffab6240f9f2418b;The dil...\n",
       "5   5;00026029e0--64991bfc63d8b20f56d0e1fb;The rhy...\n",
       "6   6;00026029e0--64991c0dd94c0d5726df032a;The cur...\n",
       "7   7;00026029e0--64991c3e63d8b20f56d0eeba;The inn...\n",
       "8   8;00026029e0--64991c9e7f82d97639452402;The inn...\n",
       "9   9;00026029e0--64992031e0daf97163c20229;The bre...\n",
       "10  10;00026029e0--64992044d94c0d5726dfffc7;His ch...\n",
       "11  11;00026029e0--6499205bea5ed167d5bc8a8c;The de...\n",
       "12  12;00026029e0--64992099ffab6240f9f3521f;The vi...\n",
       "13  13;00026029e0--649920f4ffab6240f9f3677a;The he...\n",
       "14  14;00026029e0--64992143ffab6240f9f3787a;She wo...\n",
       "15  15;00026029e0--64992161e0daf97163c2535a;They c...\n",
       "16  16;00026029e0--6499219aea5ed167d5bccf6f;The cu...\n",
       "17  17;00026029e0--64992202ea5ed167d5bce5d3;The st...\n",
       "18  18;00026029e0--6499226eef1fe70609d66276;The at...\n",
       "19  19;00026029e0--6499261299d64c4c5d32c8e2;The ta..."
      ]
     },
     "execution_count": 4,
     "metadata": {},
     "output_type": "execute_result"
    }
   ],
   "source": [
    "metadata"
   ]
  },
  {
   "cell_type": "code",
   "execution_count": 5,
   "id": "0eb08d8f",
   "metadata": {
    "execution": {
     "iopub.execute_input": "2025-01-11T13:10:15.382353Z",
     "iopub.status.busy": "2025-01-11T13:10:15.381893Z",
     "iopub.status.idle": "2025-01-11T13:10:15.388580Z",
     "shell.execute_reply": "2025-01-11T13:10:15.387246Z"
    },
    "papermill": {
     "duration": 0.016068,
     "end_time": "2025-01-11T13:10:15.390424",
     "exception": false,
     "start_time": "2025-01-11T13:10:15.374356",
     "status": "completed"
    },
    "tags": []
   },
   "outputs": [
    {
     "name": "stdout",
     "output_type": "stream",
     "text": [
      "                      ;set_id;text;gender;age;country\n",
      "0   0;00026029e0--64991b6eef1fe70609d48edc;The del...\n",
      "1   1;00026029e0--64991b72e0daf97163c09c66;I enjoy...\n",
      "2   2;00026029e0--64991b7fd94c0d5726dec353;The sus...\n",
      "3   3;00026029e0--64991b907f82d9763944eba2;They ce...\n",
      "4   4;00026029e0--64991bf2ffab6240f9f2418b;The dil...\n",
      "5   5;00026029e0--64991bfc63d8b20f56d0e1fb;The rhy...\n",
      "6   6;00026029e0--64991c0dd94c0d5726df032a;The cur...\n",
      "7   7;00026029e0--64991c3e63d8b20f56d0eeba;The inn...\n",
      "8   8;00026029e0--64991c9e7f82d97639452402;The inn...\n",
      "9   9;00026029e0--64992031e0daf97163c20229;The bre...\n",
      "10  10;00026029e0--64992044d94c0d5726dfffc7;His ch...\n",
      "11  11;00026029e0--6499205bea5ed167d5bc8a8c;The de...\n",
      "12  12;00026029e0--64992099ffab6240f9f3521f;The vi...\n",
      "13  13;00026029e0--649920f4ffab6240f9f3677a;The he...\n",
      "14  14;00026029e0--64992143ffab6240f9f3787a;She wo...\n",
      "15  15;00026029e0--64992161e0daf97163c2535a;They c...\n",
      "16  16;00026029e0--6499219aea5ed167d5bccf6f;The cu...\n",
      "17  17;00026029e0--64992202ea5ed167d5bce5d3;The st...\n",
      "18  18;00026029e0--6499226eef1fe70609d66276;The at...\n",
      "19  19;00026029e0--6499261299d64c4c5d32c8e2;The ta...\n"
     ]
    }
   ],
   "source": [
    "print(metadata)"
   ]
  },
  {
   "cell_type": "code",
   "execution_count": 6,
   "id": "eef4ba13",
   "metadata": {
    "execution": {
     "iopub.execute_input": "2025-01-11T13:10:15.404957Z",
     "iopub.status.busy": "2025-01-11T13:10:15.404570Z",
     "iopub.status.idle": "2025-01-11T13:10:15.417540Z",
     "shell.execute_reply": "2025-01-11T13:10:15.416172Z"
    },
    "papermill": {
     "duration": 0.022421,
     "end_time": "2025-01-11T13:10:15.419453",
     "exception": false,
     "start_time": "2025-01-11T13:10:15.397032",
     "status": "completed"
    },
    "tags": []
   },
   "outputs": [],
   "source": [
    "import librosa\n",
    "import os"
   ]
  },
  {
   "cell_type": "code",
   "execution_count": 7,
   "id": "90742006",
   "metadata": {
    "execution": {
     "iopub.execute_input": "2025-01-11T13:10:15.434059Z",
     "iopub.status.busy": "2025-01-11T13:10:15.433713Z",
     "iopub.status.idle": "2025-01-11T13:10:15.451061Z",
     "shell.execute_reply": "2025-01-11T13:10:15.449806Z"
    },
    "papermill": {
     "duration": 0.026732,
     "end_time": "2025-01-11T13:10:15.453060",
     "exception": false,
     "start_time": "2025-01-11T13:10:15.426328",
     "status": "completed"
    },
    "tags": []
   },
   "outputs": [
    {
     "name": "stdout",
     "output_type": "stream",
     "text": [
      "['/kaggle/input/speech-emotion-recognition/files/00026029e0--64991b72e0daf97163c09c66/euphoric.wav', '/kaggle/input/speech-emotion-recognition/files/00026029e0--64991b72e0daf97163c09c66/joyfully.wav', '/kaggle/input/speech-emotion-recognition/files/00026029e0--64991b72e0daf97163c09c66/sad.wav', '/kaggle/input/speech-emotion-recognition/files/00026029e0--64991b72e0daf97163c09c66/surprised.wav', '/kaggle/input/speech-emotion-recognition/files/00026029e0--64991c3e63d8b20f56d0eeba/euphoric.wav', '/kaggle/input/speech-emotion-recognition/files/00026029e0--64991c3e63d8b20f56d0eeba/joyfully.wav', '/kaggle/input/speech-emotion-recognition/files/00026029e0--64991c3e63d8b20f56d0eeba/sad.wav', '/kaggle/input/speech-emotion-recognition/files/00026029e0--64991c3e63d8b20f56d0eeba/surprised.wav', '/kaggle/input/speech-emotion-recognition/files/00026029e0--64992143ffab6240f9f3787a/euphoric.wav', '/kaggle/input/speech-emotion-recognition/files/00026029e0--64992143ffab6240f9f3787a/joyfully.wav', '/kaggle/input/speech-emotion-recognition/files/00026029e0--64992143ffab6240f9f3787a/sad.wav', '/kaggle/input/speech-emotion-recognition/files/00026029e0--64992143ffab6240f9f3787a/surprised.wav', '/kaggle/input/speech-emotion-recognition/files/00026029e0--6499226eef1fe70609d66276/euphoric.wav', '/kaggle/input/speech-emotion-recognition/files/00026029e0--6499226eef1fe70609d66276/joyfully.wav', '/kaggle/input/speech-emotion-recognition/files/00026029e0--6499226eef1fe70609d66276/sad.wav', '/kaggle/input/speech-emotion-recognition/files/00026029e0--6499226eef1fe70609d66276/surprised.wav', '/kaggle/input/speech-emotion-recognition/files/00026029e0--64991bfc63d8b20f56d0e1fb/euphoric.wav', '/kaggle/input/speech-emotion-recognition/files/00026029e0--64991bfc63d8b20f56d0e1fb/joyfully.wav', '/kaggle/input/speech-emotion-recognition/files/00026029e0--64991bfc63d8b20f56d0e1fb/sad.wav', '/kaggle/input/speech-emotion-recognition/files/00026029e0--64991bfc63d8b20f56d0e1fb/surprised.wav', '/kaggle/input/speech-emotion-recognition/files/00026029e0--649920f4ffab6240f9f3677a/euphoric.wav', '/kaggle/input/speech-emotion-recognition/files/00026029e0--649920f4ffab6240f9f3677a/joyfully.wav', '/kaggle/input/speech-emotion-recognition/files/00026029e0--649920f4ffab6240f9f3677a/sad.wav', '/kaggle/input/speech-emotion-recognition/files/00026029e0--649920f4ffab6240f9f3677a/surprised.wav', '/kaggle/input/speech-emotion-recognition/files/00026029e0--64992044d94c0d5726dfffc7/euphoric.wav', '/kaggle/input/speech-emotion-recognition/files/00026029e0--64992044d94c0d5726dfffc7/joyfully.wav', '/kaggle/input/speech-emotion-recognition/files/00026029e0--64992044d94c0d5726dfffc7/sad.wav', '/kaggle/input/speech-emotion-recognition/files/00026029e0--64992044d94c0d5726dfffc7/surprised.wav', '/kaggle/input/speech-emotion-recognition/files/00026029e0--64992099ffab6240f9f3521f/euphoric.wav', '/kaggle/input/speech-emotion-recognition/files/00026029e0--64992099ffab6240f9f3521f/joyfully.wav', '/kaggle/input/speech-emotion-recognition/files/00026029e0--64992099ffab6240f9f3521f/sad.wav', '/kaggle/input/speech-emotion-recognition/files/00026029e0--64992099ffab6240f9f3521f/surprised.wav', '/kaggle/input/speech-emotion-recognition/files/00026029e0--64992202ea5ed167d5bce5d3/euphoric.wav', '/kaggle/input/speech-emotion-recognition/files/00026029e0--64992202ea5ed167d5bce5d3/joyfully.wav', '/kaggle/input/speech-emotion-recognition/files/00026029e0--64992202ea5ed167d5bce5d3/sad.wav', '/kaggle/input/speech-emotion-recognition/files/00026029e0--64992202ea5ed167d5bce5d3/surprised.wav', '/kaggle/input/speech-emotion-recognition/files/00026029e0--64991c9e7f82d97639452402/euphoric.wav', '/kaggle/input/speech-emotion-recognition/files/00026029e0--64991c9e7f82d97639452402/joyfully.wav', '/kaggle/input/speech-emotion-recognition/files/00026029e0--64991c9e7f82d97639452402/sad.wav', '/kaggle/input/speech-emotion-recognition/files/00026029e0--64991c9e7f82d97639452402/surprised.wav', '/kaggle/input/speech-emotion-recognition/files/00026029e0--6499261299d64c4c5d32c8e2/euphoric.wav', '/kaggle/input/speech-emotion-recognition/files/00026029e0--6499261299d64c4c5d32c8e2/joyfully.wav', '/kaggle/input/speech-emotion-recognition/files/00026029e0--6499261299d64c4c5d32c8e2/sad.wav', '/kaggle/input/speech-emotion-recognition/files/00026029e0--6499261299d64c4c5d32c8e2/surprised.wav', '/kaggle/input/speech-emotion-recognition/files/00026029e0--64991b7fd94c0d5726dec353/euphoric.wav', '/kaggle/input/speech-emotion-recognition/files/00026029e0--64991b7fd94c0d5726dec353/joyfully.wav', '/kaggle/input/speech-emotion-recognition/files/00026029e0--64991b7fd94c0d5726dec353/joyfully(1).wav', '/kaggle/input/speech-emotion-recognition/files/00026029e0--64991b7fd94c0d5726dec353/sad.wav', '/kaggle/input/speech-emotion-recognition/files/00026029e0--64991b7fd94c0d5726dec353/surprised.wav', '/kaggle/input/speech-emotion-recognition/files/00026029e0--64991b6eef1fe70609d48edc/euphoric.wav', '/kaggle/input/speech-emotion-recognition/files/00026029e0--64991b6eef1fe70609d48edc/joyfully.wav', '/kaggle/input/speech-emotion-recognition/files/00026029e0--64991b6eef1fe70609d48edc/sad.wav', '/kaggle/input/speech-emotion-recognition/files/00026029e0--64991b6eef1fe70609d48edc/surprised.wav', '/kaggle/input/speech-emotion-recognition/files/00026029e0--64991b907f82d9763944eba2/euphoric.wav', '/kaggle/input/speech-emotion-recognition/files/00026029e0--64991b907f82d9763944eba2/joyfully.wav', '/kaggle/input/speech-emotion-recognition/files/00026029e0--64991b907f82d9763944eba2/sad.wav', '/kaggle/input/speech-emotion-recognition/files/00026029e0--64991b907f82d9763944eba2/surprised.wav', '/kaggle/input/speech-emotion-recognition/files/00026029e0--64992031e0daf97163c20229/euphoric.wav', '/kaggle/input/speech-emotion-recognition/files/00026029e0--64992031e0daf97163c20229/joyfully.wav', '/kaggle/input/speech-emotion-recognition/files/00026029e0--64992031e0daf97163c20229/sad.wav', '/kaggle/input/speech-emotion-recognition/files/00026029e0--64992031e0daf97163c20229/surprised.wav', '/kaggle/input/speech-emotion-recognition/files/00026029e0--64991c0dd94c0d5726df032a/euphoric.wav', '/kaggle/input/speech-emotion-recognition/files/00026029e0--64991c0dd94c0d5726df032a/joyfully.wav', '/kaggle/input/speech-emotion-recognition/files/00026029e0--64991c0dd94c0d5726df032a/sad.wav', '/kaggle/input/speech-emotion-recognition/files/00026029e0--64991c0dd94c0d5726df032a/surprised.wav', '/kaggle/input/speech-emotion-recognition/files/00026029e0--64992161e0daf97163c2535a/euphoric.wav', '/kaggle/input/speech-emotion-recognition/files/00026029e0--64992161e0daf97163c2535a/joyfully.wav', '/kaggle/input/speech-emotion-recognition/files/00026029e0--64992161e0daf97163c2535a/sad.wav', '/kaggle/input/speech-emotion-recognition/files/00026029e0--64992161e0daf97163c2535a/surprised.wav']\n"
     ]
    }
   ],
   "source": [
    "import os\n",
    "\n",
    "# Define the root directory containing the audio files\n",
    "ROOT = '/kaggle/input/speech-emotion-recognition'\n",
    "\n",
    "# Initialize an empty list to store the paths to the audio files\n",
    "audio_paths = []\n",
    "\n",
    "# Walk through the directory tree\n",
    "for root, dirs, files in os.walk(ROOT):\n",
    "    for file in files:\n",
    "        if file.endswith('.wav'):  # Check if the file is an audio file\n",
    "            audio_path = os.path.join(root, file)\n",
    "            audio_paths.append(audio_path)\n",
    "\n",
    "# Print the list of audio paths\n",
    "print(audio_paths)\n"
   ]
  },
  {
   "cell_type": "code",
   "execution_count": 8,
   "id": "2e20dc1d",
   "metadata": {
    "execution": {
     "iopub.execute_input": "2025-01-11T13:10:15.472793Z",
     "iopub.status.busy": "2025-01-11T13:10:15.472423Z",
     "iopub.status.idle": "2025-01-11T13:10:15.477588Z",
     "shell.execute_reply": "2025-01-11T13:10:15.476353Z"
    },
    "papermill": {
     "duration": 0.016623,
     "end_time": "2025-01-11T13:10:15.479453",
     "exception": false,
     "start_time": "2025-01-11T13:10:15.462830",
     "status": "completed"
    },
    "tags": []
   },
   "outputs": [],
   "source": [
    "# Rename columns\n",
    "metadata = metadata.rename(columns={'set_id': 'Set ID', 'audio_id': 'Audio ID', 'text': 'Text', 'gender': 'Gender', 'age': 'Age', 'country': 'Country'})\n"
   ]
  },
  {
   "cell_type": "code",
   "execution_count": 9,
   "id": "56aa4e21",
   "metadata": {
    "execution": {
     "iopub.execute_input": "2025-01-11T13:10:15.494341Z",
     "iopub.status.busy": "2025-01-11T13:10:15.493925Z",
     "iopub.status.idle": "2025-01-11T13:10:15.501043Z",
     "shell.execute_reply": "2025-01-11T13:10:15.499843Z"
    },
    "papermill": {
     "duration": 0.01668,
     "end_time": "2025-01-11T13:10:15.502921",
     "exception": false,
     "start_time": "2025-01-11T13:10:15.486241",
     "status": "completed"
    },
    "tags": []
   },
   "outputs": [
    {
     "name": "stdout",
     "output_type": "stream",
     "text": [
      "                      ;set_id;text;gender;age;country\n",
      "0   0;00026029e0--64991b6eef1fe70609d48edc;The del...\n",
      "1   1;00026029e0--64991b72e0daf97163c09c66;I enjoy...\n",
      "2   2;00026029e0--64991b7fd94c0d5726dec353;The sus...\n",
      "3   3;00026029e0--64991b907f82d9763944eba2;They ce...\n",
      "4   4;00026029e0--64991bf2ffab6240f9f2418b;The dil...\n",
      "5   5;00026029e0--64991bfc63d8b20f56d0e1fb;The rhy...\n",
      "6   6;00026029e0--64991c0dd94c0d5726df032a;The cur...\n",
      "7   7;00026029e0--64991c3e63d8b20f56d0eeba;The inn...\n",
      "8   8;00026029e0--64991c9e7f82d97639452402;The inn...\n",
      "9   9;00026029e0--64992031e0daf97163c20229;The bre...\n",
      "10  10;00026029e0--64992044d94c0d5726dfffc7;His ch...\n",
      "11  11;00026029e0--6499205bea5ed167d5bc8a8c;The de...\n",
      "12  12;00026029e0--64992099ffab6240f9f3521f;The vi...\n",
      "13  13;00026029e0--649920f4ffab6240f9f3677a;The he...\n",
      "14  14;00026029e0--64992143ffab6240f9f3787a;She wo...\n",
      "15  15;00026029e0--64992161e0daf97163c2535a;They c...\n",
      "16  16;00026029e0--6499219aea5ed167d5bccf6f;The cu...\n",
      "17  17;00026029e0--64992202ea5ed167d5bce5d3;The st...\n",
      "18  18;00026029e0--6499226eef1fe70609d66276;The at...\n",
      "19  19;00026029e0--6499261299d64c4c5d32c8e2;The ta...\n"
     ]
    }
   ],
   "source": [
    "print(metadata)"
   ]
  },
  {
   "cell_type": "code",
   "execution_count": 10,
   "id": "fc876bca",
   "metadata": {
    "execution": {
     "iopub.execute_input": "2025-01-11T13:10:15.517829Z",
     "iopub.status.busy": "2025-01-11T13:10:15.517461Z",
     "iopub.status.idle": "2025-01-11T13:10:15.524004Z",
     "shell.execute_reply": "2025-01-11T13:10:15.522692Z"
    },
    "papermill": {
     "duration": 0.016079,
     "end_time": "2025-01-11T13:10:15.525849",
     "exception": false,
     "start_time": "2025-01-11T13:10:15.509770",
     "status": "completed"
    },
    "tags": []
   },
   "outputs": [
    {
     "name": "stdout",
     "output_type": "stream",
     "text": [
      "                     ;set_id;text;gender;age;country\n",
      "0  0;00026029e0--64991b6eef1fe70609d48edc;The del...\n",
      "1  1;00026029e0--64991b72e0daf97163c09c66;I enjoy...\n",
      "2  2;00026029e0--64991b7fd94c0d5726dec353;The sus...\n",
      "3  3;00026029e0--64991b907f82d9763944eba2;They ce...\n",
      "4  4;00026029e0--64991bf2ffab6240f9f2418b;The dil...\n"
     ]
    }
   ],
   "source": [
    "print(metadata.head())\n"
   ]
  },
  {
   "cell_type": "code",
   "execution_count": 11,
   "id": "92c5a3d0",
   "metadata": {
    "execution": {
     "iopub.execute_input": "2025-01-11T13:10:15.541179Z",
     "iopub.status.busy": "2025-01-11T13:10:15.540848Z",
     "iopub.status.idle": "2025-01-11T13:10:15.546500Z",
     "shell.execute_reply": "2025-01-11T13:10:15.545312Z"
    },
    "papermill": {
     "duration": 0.01524,
     "end_time": "2025-01-11T13:10:15.548319",
     "exception": false,
     "start_time": "2025-01-11T13:10:15.533079",
     "status": "completed"
    },
    "tags": []
   },
   "outputs": [],
   "source": [
    "metadata = metadata.iloc[:, 0].str.split(';', expand=True)"
   ]
  },
  {
   "cell_type": "code",
   "execution_count": 12,
   "id": "a963461f",
   "metadata": {
    "execution": {
     "iopub.execute_input": "2025-01-11T13:10:15.563294Z",
     "iopub.status.busy": "2025-01-11T13:10:15.562897Z",
     "iopub.status.idle": "2025-01-11T13:10:15.573144Z",
     "shell.execute_reply": "2025-01-11T13:10:15.572133Z"
    },
    "papermill": {
     "duration": 0.019534,
     "end_time": "2025-01-11T13:10:15.574838",
     "exception": false,
     "start_time": "2025-01-11T13:10:15.555304",
     "status": "completed"
    },
    "tags": []
   },
   "outputs": [
    {
     "data": {
      "text/html": [
       "<div>\n",
       "<style scoped>\n",
       "    .dataframe tbody tr th:only-of-type {\n",
       "        vertical-align: middle;\n",
       "    }\n",
       "\n",
       "    .dataframe tbody tr th {\n",
       "        vertical-align: top;\n",
       "    }\n",
       "\n",
       "    .dataframe thead th {\n",
       "        text-align: right;\n",
       "    }\n",
       "</style>\n",
       "<table border=\"1\" class=\"dataframe\">\n",
       "  <thead>\n",
       "    <tr style=\"text-align: right;\">\n",
       "      <th></th>\n",
       "      <th>0</th>\n",
       "      <th>1</th>\n",
       "      <th>2</th>\n",
       "      <th>3</th>\n",
       "      <th>4</th>\n",
       "      <th>5</th>\n",
       "    </tr>\n",
       "  </thead>\n",
       "  <tbody>\n",
       "    <tr>\n",
       "      <th>0</th>\n",
       "      <td>0</td>\n",
       "      <td>00026029e0--64991b6eef1fe70609d48edc</td>\n",
       "      <td>The delicious aroma of freshly baked bread fil...</td>\n",
       "      <td>MALE</td>\n",
       "      <td>29</td>\n",
       "      <td>ZA</td>\n",
       "    </tr>\n",
       "    <tr>\n",
       "      <th>1</th>\n",
       "      <td>1</td>\n",
       "      <td>00026029e0--64991b72e0daf97163c09c66</td>\n",
       "      <td>I enjoy taking long walks in the peaceful coun...</td>\n",
       "      <td>FEMALE</td>\n",
       "      <td>42</td>\n",
       "      <td>NG</td>\n",
       "    </tr>\n",
       "    <tr>\n",
       "      <th>2</th>\n",
       "      <td>2</td>\n",
       "      <td>00026029e0--64991b7fd94c0d5726dec353</td>\n",
       "      <td>The suspenseful novel kept me on the edge of m...</td>\n",
       "      <td>FEMALE</td>\n",
       "      <td>29</td>\n",
       "      <td>VN</td>\n",
       "    </tr>\n",
       "    <tr>\n",
       "      <th>3</th>\n",
       "      <td>3</td>\n",
       "      <td>00026029e0--64991b907f82d9763944eba2</td>\n",
       "      <td>They celebrated their anniversary with a roman...</td>\n",
       "      <td>FEMALE</td>\n",
       "      <td>20</td>\n",
       "      <td>PK</td>\n",
       "    </tr>\n",
       "    <tr>\n",
       "      <th>4</th>\n",
       "      <td>4</td>\n",
       "      <td>00026029e0--64991bf2ffab6240f9f2418b</td>\n",
       "      <td>The diligent student earned top marks for her ...</td>\n",
       "      <td>MALE</td>\n",
       "      <td>30</td>\n",
       "      <td>PK</td>\n",
       "    </tr>\n",
       "  </tbody>\n",
       "</table>\n",
       "</div>"
      ],
      "text/plain": [
       "   0                                     1  \\\n",
       "0  0  00026029e0--64991b6eef1fe70609d48edc   \n",
       "1  1  00026029e0--64991b72e0daf97163c09c66   \n",
       "2  2  00026029e0--64991b7fd94c0d5726dec353   \n",
       "3  3  00026029e0--64991b907f82d9763944eba2   \n",
       "4  4  00026029e0--64991bf2ffab6240f9f2418b   \n",
       "\n",
       "                                                   2       3   4   5  \n",
       "0  The delicious aroma of freshly baked bread fil...    MALE  29  ZA  \n",
       "1  I enjoy taking long walks in the peaceful coun...  FEMALE  42  NG  \n",
       "2  The suspenseful novel kept me on the edge of m...  FEMALE  29  VN  \n",
       "3  They celebrated their anniversary with a roman...  FEMALE  20  PK  \n",
       "4  The diligent student earned top marks for her ...    MALE  30  PK  "
      ]
     },
     "execution_count": 12,
     "metadata": {},
     "output_type": "execute_result"
    }
   ],
   "source": [
    "metadata.head()"
   ]
  },
  {
   "cell_type": "code",
   "execution_count": 13,
   "id": "2bc69bc6",
   "metadata": {
    "execution": {
     "iopub.execute_input": "2025-01-11T13:10:15.591365Z",
     "iopub.status.busy": "2025-01-11T13:10:15.590929Z",
     "iopub.status.idle": "2025-01-11T13:10:15.596971Z",
     "shell.execute_reply": "2025-01-11T13:10:15.595164Z"
    },
    "papermill": {
     "duration": 0.016527,
     "end_time": "2025-01-11T13:10:15.599348",
     "exception": false,
     "start_time": "2025-01-11T13:10:15.582821",
     "status": "completed"
    },
    "tags": []
   },
   "outputs": [],
   "source": [
    "metadata.columns = ['set_id', 'text_id', 'text', 'gender', 'age', 'country']"
   ]
  },
  {
   "cell_type": "code",
   "execution_count": 14,
   "id": "40ecdd21",
   "metadata": {
    "execution": {
     "iopub.execute_input": "2025-01-11T13:10:15.615373Z",
     "iopub.status.busy": "2025-01-11T13:10:15.614883Z",
     "iopub.status.idle": "2025-01-11T13:10:15.628336Z",
     "shell.execute_reply": "2025-01-11T13:10:15.627088Z"
    },
    "papermill": {
     "duration": 0.023375,
     "end_time": "2025-01-11T13:10:15.630251",
     "exception": false,
     "start_time": "2025-01-11T13:10:15.606876",
     "status": "completed"
    },
    "tags": []
   },
   "outputs": [
    {
     "data": {
      "text/html": [
       "<div>\n",
       "<style scoped>\n",
       "    .dataframe tbody tr th:only-of-type {\n",
       "        vertical-align: middle;\n",
       "    }\n",
       "\n",
       "    .dataframe tbody tr th {\n",
       "        vertical-align: top;\n",
       "    }\n",
       "\n",
       "    .dataframe thead th {\n",
       "        text-align: right;\n",
       "    }\n",
       "</style>\n",
       "<table border=\"1\" class=\"dataframe\">\n",
       "  <thead>\n",
       "    <tr style=\"text-align: right;\">\n",
       "      <th></th>\n",
       "      <th>set_id</th>\n",
       "      <th>text_id</th>\n",
       "      <th>text</th>\n",
       "      <th>gender</th>\n",
       "      <th>age</th>\n",
       "      <th>country</th>\n",
       "    </tr>\n",
       "  </thead>\n",
       "  <tbody>\n",
       "    <tr>\n",
       "      <th>0</th>\n",
       "      <td>0</td>\n",
       "      <td>00026029e0--64991b6eef1fe70609d48edc</td>\n",
       "      <td>The delicious aroma of freshly baked bread fil...</td>\n",
       "      <td>MALE</td>\n",
       "      <td>29</td>\n",
       "      <td>ZA</td>\n",
       "    </tr>\n",
       "    <tr>\n",
       "      <th>1</th>\n",
       "      <td>1</td>\n",
       "      <td>00026029e0--64991b72e0daf97163c09c66</td>\n",
       "      <td>I enjoy taking long walks in the peaceful coun...</td>\n",
       "      <td>FEMALE</td>\n",
       "      <td>42</td>\n",
       "      <td>NG</td>\n",
       "    </tr>\n",
       "    <tr>\n",
       "      <th>2</th>\n",
       "      <td>2</td>\n",
       "      <td>00026029e0--64991b7fd94c0d5726dec353</td>\n",
       "      <td>The suspenseful novel kept me on the edge of m...</td>\n",
       "      <td>FEMALE</td>\n",
       "      <td>29</td>\n",
       "      <td>VN</td>\n",
       "    </tr>\n",
       "    <tr>\n",
       "      <th>3</th>\n",
       "      <td>3</td>\n",
       "      <td>00026029e0--64991b907f82d9763944eba2</td>\n",
       "      <td>They celebrated their anniversary with a roman...</td>\n",
       "      <td>FEMALE</td>\n",
       "      <td>20</td>\n",
       "      <td>PK</td>\n",
       "    </tr>\n",
       "    <tr>\n",
       "      <th>4</th>\n",
       "      <td>4</td>\n",
       "      <td>00026029e0--64991bf2ffab6240f9f2418b</td>\n",
       "      <td>The diligent student earned top marks for her ...</td>\n",
       "      <td>MALE</td>\n",
       "      <td>30</td>\n",
       "      <td>PK</td>\n",
       "    </tr>\n",
       "    <tr>\n",
       "      <th>5</th>\n",
       "      <td>5</td>\n",
       "      <td>00026029e0--64991bfc63d8b20f56d0e1fb</td>\n",
       "      <td>The rhythmic beat of the drums echoed through ...</td>\n",
       "      <td>MALE</td>\n",
       "      <td>18</td>\n",
       "      <td>IN</td>\n",
       "    </tr>\n",
       "    <tr>\n",
       "      <th>6</th>\n",
       "      <td>6</td>\n",
       "      <td>00026029e0--64991c0dd94c0d5726df032a</td>\n",
       "      <td>The curious child eagerly explored the vast mu...</td>\n",
       "      <td>MALE</td>\n",
       "      <td>21</td>\n",
       "      <td>MX</td>\n",
       "    </tr>\n",
       "    <tr>\n",
       "      <th>7</th>\n",
       "      <td>7</td>\n",
       "      <td>00026029e0--64991c3e63d8b20f56d0eeba</td>\n",
       "      <td>The innovative design of the new smartphone im...</td>\n",
       "      <td>FEMALE</td>\n",
       "      <td>20</td>\n",
       "      <td>PK</td>\n",
       "    </tr>\n",
       "    <tr>\n",
       "      <th>8</th>\n",
       "      <td>8</td>\n",
       "      <td>00026029e0--64991c9e7f82d97639452402</td>\n",
       "      <td>The innovative design of the new smartphone im...</td>\n",
       "      <td>MALE</td>\n",
       "      <td>34</td>\n",
       "      <td>NG</td>\n",
       "    </tr>\n",
       "    <tr>\n",
       "      <th>9</th>\n",
       "      <td>9</td>\n",
       "      <td>00026029e0--64992031e0daf97163c20229</td>\n",
       "      <td>The breathtaking view from the mountaintop too...</td>\n",
       "      <td>FEMALE</td>\n",
       "      <td>31</td>\n",
       "      <td>KE</td>\n",
       "    </tr>\n",
       "    <tr>\n",
       "      <th>10</th>\n",
       "      <td>10</td>\n",
       "      <td>00026029e0--64992044d94c0d5726dfffc7</td>\n",
       "      <td>His charismatic personality made him a natural...</td>\n",
       "      <td>FEMALE</td>\n",
       "      <td>24</td>\n",
       "      <td>KE</td>\n",
       "    </tr>\n",
       "    <tr>\n",
       "      <th>11</th>\n",
       "      <td>11</td>\n",
       "      <td>00026029e0--6499205bea5ed167d5bc8a8c</td>\n",
       "      <td>The delicious aroma of freshly baked bread fil...</td>\n",
       "      <td>FEMALE</td>\n",
       "      <td>22</td>\n",
       "      <td>KE</td>\n",
       "    </tr>\n",
       "    <tr>\n",
       "      <th>12</th>\n",
       "      <td>12</td>\n",
       "      <td>00026029e0--64992099ffab6240f9f3521f</td>\n",
       "      <td>The vibrant colors of the sunset painted the s...</td>\n",
       "      <td>MALE</td>\n",
       "      <td>19</td>\n",
       "      <td>MY</td>\n",
       "    </tr>\n",
       "    <tr>\n",
       "      <th>13</th>\n",
       "      <td>13</td>\n",
       "      <td>00026029e0--649920f4ffab6240f9f3677a</td>\n",
       "      <td>The heartfelt apology melted away the tension ...</td>\n",
       "      <td>MALE</td>\n",
       "      <td>21</td>\n",
       "      <td>KE</td>\n",
       "    </tr>\n",
       "    <tr>\n",
       "      <th>14</th>\n",
       "      <td>14</td>\n",
       "      <td>00026029e0--64992143ffab6240f9f3787a</td>\n",
       "      <td>She wore a stunning gown that dazzled everyone...</td>\n",
       "      <td>FEMALE</td>\n",
       "      <td>30</td>\n",
       "      <td>KE</td>\n",
       "    </tr>\n",
       "    <tr>\n",
       "      <th>15</th>\n",
       "      <td>15</td>\n",
       "      <td>00026029e0--64992161e0daf97163c2535a</td>\n",
       "      <td>They celebrated their anniversary with a roman...</td>\n",
       "      <td>MALE</td>\n",
       "      <td>20</td>\n",
       "      <td>PK</td>\n",
       "    </tr>\n",
       "    <tr>\n",
       "      <th>16</th>\n",
       "      <td>16</td>\n",
       "      <td>00026029e0--6499219aea5ed167d5bccf6f</td>\n",
       "      <td>The curious child eagerly explored the vast mu...</td>\n",
       "      <td>FEMALE</td>\n",
       "      <td>22</td>\n",
       "      <td>KE</td>\n",
       "    </tr>\n",
       "    <tr>\n",
       "      <th>17</th>\n",
       "      <td>17</td>\n",
       "      <td>00026029e0--64992202ea5ed167d5bce5d3</td>\n",
       "      <td>The starry night sky filled their hearts with ...</td>\n",
       "      <td>FEMALE</td>\n",
       "      <td>31</td>\n",
       "      <td>KE</td>\n",
       "    </tr>\n",
       "    <tr>\n",
       "      <th>18</th>\n",
       "      <td>18</td>\n",
       "      <td>00026029e0--6499226eef1fe70609d66276</td>\n",
       "      <td>The athlete's dedication and hard work led to ...</td>\n",
       "      <td>MALE</td>\n",
       "      <td>20</td>\n",
       "      <td>PK</td>\n",
       "    </tr>\n",
       "    <tr>\n",
       "      <th>19</th>\n",
       "      <td>19</td>\n",
       "      <td>00026029e0--6499261299d64c4c5d32c8e2</td>\n",
       "      <td>The talented musician captivated the audience ...</td>\n",
       "      <td>FEMALE</td>\n",
       "      <td>22</td>\n",
       "      <td>NG</td>\n",
       "    </tr>\n",
       "  </tbody>\n",
       "</table>\n",
       "</div>"
      ],
      "text/plain": [
       "   set_id                               text_id  \\\n",
       "0       0  00026029e0--64991b6eef1fe70609d48edc   \n",
       "1       1  00026029e0--64991b72e0daf97163c09c66   \n",
       "2       2  00026029e0--64991b7fd94c0d5726dec353   \n",
       "3       3  00026029e0--64991b907f82d9763944eba2   \n",
       "4       4  00026029e0--64991bf2ffab6240f9f2418b   \n",
       "5       5  00026029e0--64991bfc63d8b20f56d0e1fb   \n",
       "6       6  00026029e0--64991c0dd94c0d5726df032a   \n",
       "7       7  00026029e0--64991c3e63d8b20f56d0eeba   \n",
       "8       8  00026029e0--64991c9e7f82d97639452402   \n",
       "9       9  00026029e0--64992031e0daf97163c20229   \n",
       "10     10  00026029e0--64992044d94c0d5726dfffc7   \n",
       "11     11  00026029e0--6499205bea5ed167d5bc8a8c   \n",
       "12     12  00026029e0--64992099ffab6240f9f3521f   \n",
       "13     13  00026029e0--649920f4ffab6240f9f3677a   \n",
       "14     14  00026029e0--64992143ffab6240f9f3787a   \n",
       "15     15  00026029e0--64992161e0daf97163c2535a   \n",
       "16     16  00026029e0--6499219aea5ed167d5bccf6f   \n",
       "17     17  00026029e0--64992202ea5ed167d5bce5d3   \n",
       "18     18  00026029e0--6499226eef1fe70609d66276   \n",
       "19     19  00026029e0--6499261299d64c4c5d32c8e2   \n",
       "\n",
       "                                                 text  gender age country  \n",
       "0   The delicious aroma of freshly baked bread fil...    MALE  29      ZA  \n",
       "1   I enjoy taking long walks in the peaceful coun...  FEMALE  42      NG  \n",
       "2   The suspenseful novel kept me on the edge of m...  FEMALE  29      VN  \n",
       "3   They celebrated their anniversary with a roman...  FEMALE  20      PK  \n",
       "4   The diligent student earned top marks for her ...    MALE  30      PK  \n",
       "5   The rhythmic beat of the drums echoed through ...    MALE  18      IN  \n",
       "6   The curious child eagerly explored the vast mu...    MALE  21      MX  \n",
       "7   The innovative design of the new smartphone im...  FEMALE  20      PK  \n",
       "8   The innovative design of the new smartphone im...    MALE  34      NG  \n",
       "9   The breathtaking view from the mountaintop too...  FEMALE  31      KE  \n",
       "10  His charismatic personality made him a natural...  FEMALE  24      KE  \n",
       "11  The delicious aroma of freshly baked bread fil...  FEMALE  22      KE  \n",
       "12  The vibrant colors of the sunset painted the s...    MALE  19      MY  \n",
       "13  The heartfelt apology melted away the tension ...    MALE  21      KE  \n",
       "14  She wore a stunning gown that dazzled everyone...  FEMALE  30      KE  \n",
       "15  They celebrated their anniversary with a roman...    MALE  20      PK  \n",
       "16  The curious child eagerly explored the vast mu...  FEMALE  22      KE  \n",
       "17  The starry night sky filled their hearts with ...  FEMALE  31      KE  \n",
       "18  The athlete's dedication and hard work led to ...    MALE  20      PK  \n",
       "19  The talented musician captivated the audience ...  FEMALE  22      NG  "
      ]
     },
     "execution_count": 14,
     "metadata": {},
     "output_type": "execute_result"
    }
   ],
   "source": [
    "metadata"
   ]
  },
  {
   "cell_type": "code",
   "execution_count": 15,
   "id": "ad38a495",
   "metadata": {
    "execution": {
     "iopub.execute_input": "2025-01-11T13:10:15.646133Z",
     "iopub.status.busy": "2025-01-11T13:10:15.645790Z",
     "iopub.status.idle": "2025-01-11T13:10:15.651956Z",
     "shell.execute_reply": "2025-01-11T13:10:15.650929Z"
    },
    "papermill": {
     "duration": 0.015935,
     "end_time": "2025-01-11T13:10:15.653607",
     "exception": false,
     "start_time": "2025-01-11T13:10:15.637672",
     "status": "completed"
    },
    "tags": []
   },
   "outputs": [],
   "source": [
    "# Create a dictionary mapping audio IDs to text\n",
    "id_to_text = {}\n",
    "for index, row in metadata.iterrows():\n",
    "    audio_id = row['set_id']\n",
    "    text = row['text']\n",
    "    id_to_text[audio_id] = text\n"
   ]
  },
  {
   "cell_type": "code",
   "execution_count": 16,
   "id": "0935eb2c",
   "metadata": {
    "execution": {
     "iopub.execute_input": "2025-01-11T13:10:15.669694Z",
     "iopub.status.busy": "2025-01-11T13:10:15.669334Z",
     "iopub.status.idle": "2025-01-11T13:10:15.678451Z",
     "shell.execute_reply": "2025-01-11T13:10:15.677238Z"
    },
    "papermill": {
     "duration": 0.019467,
     "end_time": "2025-01-11T13:10:15.680441",
     "exception": false,
     "start_time": "2025-01-11T13:10:15.660974",
     "status": "completed"
    },
    "tags": []
   },
   "outputs": [],
   "source": [
    "import librosa\n",
    "import numpy as np\n",
    "\n",
    "# Function to load and extract features from an audio file\n",
    "def extract_features(file_path):\n",
    "    y, sr = librosa.load(file_path, duration=2.5, offset=0.5)\n",
    "    mfccs = librosa.feature.mfcc(y=y, sr=sr, n_mfcc=13)\n",
    "    return np.mean(mfccs.T, axis=0)\n",
    "\n",
    "# Extract features for all audio files\n",
    "features_list = []\n",
    "for audio_path in audio_paths:\n",
    "    audio_id = os.path.basename(audio_path).split('.')[0]\n",
    "    if audio_id in id_to_text:\n",
    "        features = extract_features(audio_path)\n",
    "        features_list.append(features)\n",
    "\n",
    "# Convert to DataFrame\n",
    "features_df = pd.DataFrame(features_list)\n",
    "features_df['text'] = [id_to_text[os.path.basename(path).split('.')[0]] for path in audio_paths if os.path.basename(path).split('.')[0] in id_to_text]\n"
   ]
  },
  {
   "cell_type": "code",
   "execution_count": 17,
   "id": "a17b7480",
   "metadata": {
    "execution": {
     "iopub.execute_input": "2025-01-11T13:10:15.697074Z",
     "iopub.status.busy": "2025-01-11T13:10:15.696736Z",
     "iopub.status.idle": "2025-01-11T13:10:15.701947Z",
     "shell.execute_reply": "2025-01-11T13:10:15.700796Z"
    },
    "papermill": {
     "duration": 0.015482,
     "end_time": "2025-01-11T13:10:15.703741",
     "exception": false,
     "start_time": "2025-01-11T13:10:15.688259",
     "status": "completed"
    },
    "tags": []
   },
   "outputs": [
    {
     "name": "stdout",
     "output_type": "stream",
     "text": [
      "{'0': 'The delicious aroma of freshly baked bread filled the bakery.', '1': 'I enjoy taking long walks in the peaceful countryside.', '2': 'The suspenseful novel kept me on the edge of my seat.', '3': 'They celebrated their anniversary with a romantic candlelit dinner.', '4': 'The diligent student earned top marks for her exceptional work.', '5': 'The rhythmic beat of the drums echoed through the concert hall.', '6': 'The curious child eagerly explored the vast museum exhibits.', '7': 'The innovative design of the new smartphone impressed tech enthusiasts.', '8': 'The innovative design of the new smartphone impressed tech enthusiasts.', '9': 'The breathtaking view from the mountaintop took my breath away.', '10': 'His charismatic personality made him a natural leader among his peers.', '11': 'The delicious aroma of freshly baked bread filled the bakery.', '12': 'The vibrant colors of the sunset painted the sky with beauty.', '13': 'The heartfelt apology melted away the tension in the room.', '14': 'She wore a stunning gown that dazzled everyone at the party.', '15': 'They celebrated their anniversary with a romantic candlelit dinner.', '16': 'The curious child eagerly explored the vast museum exhibits.', '17': 'The starry night sky filled their hearts with a sense of wonder.', '18': \"The athlete's dedication and hard work led to her victory.\", '19': 'The talented musician captivated the audience with his mesmerizing performance.'}\n"
     ]
    }
   ],
   "source": [
    "\n",
    "print(id_to_text)\n"
   ]
  },
  {
   "cell_type": "code",
   "execution_count": 18,
   "id": "8cfb7e0d",
   "metadata": {
    "execution": {
     "iopub.execute_input": "2025-01-11T13:10:15.720000Z",
     "iopub.status.busy": "2025-01-11T13:10:15.719657Z",
     "iopub.status.idle": "2025-01-11T13:10:17.151248Z",
     "shell.execute_reply": "2025-01-11T13:10:17.150014Z"
    },
    "papermill": {
     "duration": 1.441689,
     "end_time": "2025-01-11T13:10:17.153173",
     "exception": false,
     "start_time": "2025-01-11T13:10:15.711484",
     "status": "completed"
    },
    "tags": []
   },
   "outputs": [
    {
     "name": "stdout",
     "output_type": "stream",
     "text": [
      "0\n",
      "0\n",
      "(16,) (4,) (16,) (4,)\n"
     ]
    }
   ],
   "source": [
    "# Assigning the feature and label columns\n",
    "X = metadata['text']\n",
    "y = metadata['gender']\n",
    "\n",
    "# Checking for missing values in both\n",
    "print(X.isnull().sum())\n",
    "print(y.isnull().sum())\n",
    "\n",
    "# Removing missing values\n",
    "metadata.dropna(subset=['text', 'gender'], inplace=True)\n",
    "\n",
    "# Now try splitting the data\n",
    "X = metadata['text']\n",
    "y = metadata['gender']\n",
    "\n",
    "# Proceed with encoding and train-test split\n",
    "from sklearn.model_selection import train_test_split\n",
    "from sklearn.preprocessing import LabelEncoder\n",
    "\n",
    "label_encoder = LabelEncoder()\n",
    "y_encoded = label_encoder.fit_transform(y)\n",
    "\n",
    "X_train, X_test, y_train, y_test = train_test_split(X, y_encoded, test_size=0.2, random_state=42)\n",
    "\n",
    "# Verify the split\n",
    "print(X_train.shape, X_test.shape, y_train.shape, y_test.shape)\n"
   ]
  },
  {
   "cell_type": "code",
   "execution_count": 19,
   "id": "88073ff1",
   "metadata": {
    "execution": {
     "iopub.execute_input": "2025-01-11T13:10:17.170214Z",
     "iopub.status.busy": "2025-01-11T13:10:17.169716Z",
     "iopub.status.idle": "2025-01-11T13:10:17.176864Z",
     "shell.execute_reply": "2025-01-11T13:10:17.175633Z"
    },
    "papermill": {
     "duration": 0.01739,
     "end_time": "2025-01-11T13:10:17.178438",
     "exception": false,
     "start_time": "2025-01-11T13:10:17.161048",
     "status": "completed"
    },
    "tags": []
   },
   "outputs": [
    {
     "name": "stdout",
     "output_type": "stream",
     "text": [
      "0    The delicious aroma of freshly baked bread fil...\n",
      "1    I enjoy taking long walks in the peaceful coun...\n",
      "2    The suspenseful novel kept me on the edge of m...\n",
      "3    They celebrated their anniversary with a roman...\n",
      "4    The diligent student earned top marks for her ...\n",
      "Name: text, dtype: object\n",
      "0      MALE\n",
      "1    FEMALE\n",
      "2    FEMALE\n",
      "3    FEMALE\n",
      "4      MALE\n",
      "Name: gender, dtype: object\n"
     ]
    }
   ],
   "source": [
    "print(X.head())  # Check if X is populated\n",
    "print(y.head())  # Check if y is populated\n"
   ]
  },
  {
   "cell_type": "code",
   "execution_count": 20,
   "id": "75a625f9",
   "metadata": {
    "execution": {
     "iopub.execute_input": "2025-01-11T13:10:17.195428Z",
     "iopub.status.busy": "2025-01-11T13:10:17.194988Z",
     "iopub.status.idle": "2025-01-11T13:10:17.199661Z",
     "shell.execute_reply": "2025-01-11T13:10:17.198481Z"
    },
    "papermill": {
     "duration": 0.015504,
     "end_time": "2025-01-11T13:10:17.201608",
     "exception": false,
     "start_time": "2025-01-11T13:10:17.186104",
     "status": "completed"
    },
    "tags": []
   },
   "outputs": [],
   "source": [
    "from sklearn.preprocessing import LabelEncoder\n",
    "X = LabelEncoder().fit_transform(X)"
   ]
  },
  {
   "cell_type": "code",
   "execution_count": 21,
   "id": "eb03d971",
   "metadata": {
    "execution": {
     "iopub.execute_input": "2025-01-11T13:10:17.218137Z",
     "iopub.status.busy": "2025-01-11T13:10:17.217787Z",
     "iopub.status.idle": "2025-01-11T13:10:17.223123Z",
     "shell.execute_reply": "2025-01-11T13:10:17.222067Z"
    },
    "papermill": {
     "duration": 0.015513,
     "end_time": "2025-01-11T13:10:17.224806",
     "exception": false,
     "start_time": "2025-01-11T13:10:17.209293",
     "status": "completed"
    },
    "tags": []
   },
   "outputs": [
    {
     "name": "stdout",
     "output_type": "stream",
     "text": [
      "(20,) (20,)\n"
     ]
    }
   ],
   "source": [
    "print(X.shape, y.shape)"
   ]
  },
  {
   "cell_type": "code",
   "execution_count": 22,
   "id": "d1faef9d",
   "metadata": {
    "execution": {
     "iopub.execute_input": "2025-01-11T13:10:17.241695Z",
     "iopub.status.busy": "2025-01-11T13:10:17.241350Z",
     "iopub.status.idle": "2025-01-11T13:10:17.394963Z",
     "shell.execute_reply": "2025-01-11T13:10:17.393351Z"
    },
    "papermill": {
     "duration": 0.16401,
     "end_time": "2025-01-11T13:10:17.396705",
     "exception": true,
     "start_time": "2025-01-11T13:10:17.232695",
     "status": "failed"
    },
    "tags": []
   },
   "outputs": [
    {
     "ename": "NameError",
     "evalue": "name 'extract_mfcc' is not defined",
     "output_type": "error",
     "traceback": [
      "\u001b[0;31m---------------------------------------------------------------------------\u001b[0m",
      "\u001b[0;31mNameError\u001b[0m                                 Traceback (most recent call last)",
      "\u001b[0;32m<ipython-input-22-73caa72f3ce9>\u001b[0m in \u001b[0;36m<cell line: 15>\u001b[0;34m()\u001b[0m\n\u001b[1;32m     13\u001b[0m     \u001b[0;32mreturn\u001b[0m \u001b[0mnp\u001b[0m\u001b[0;34m.\u001b[0m\u001b[0marray\u001b[0m\u001b[0;34m(\u001b[0m\u001b[0mfeatures\u001b[0m\u001b[0;34m)\u001b[0m\u001b[0;34m,\u001b[0m \u001b[0mnp\u001b[0m\u001b[0;34m.\u001b[0m\u001b[0marray\u001b[0m\u001b[0;34m(\u001b[0m\u001b[0mlabels\u001b[0m\u001b[0;34m)\u001b[0m\u001b[0;34m\u001b[0m\u001b[0;34m\u001b[0m\u001b[0m\n\u001b[1;32m     14\u001b[0m \u001b[0;34m\u001b[0m\u001b[0m\n\u001b[0;32m---> 15\u001b[0;31m \u001b[0mX\u001b[0m\u001b[0;34m,\u001b[0m \u001b[0my\u001b[0m \u001b[0;34m=\u001b[0m \u001b[0mprocess_audio_files\u001b[0m\u001b[0;34m(\u001b[0m\u001b[0maudio_paths\u001b[0m\u001b[0;34m)\u001b[0m\u001b[0;34m\u001b[0m\u001b[0;34m\u001b[0m\u001b[0m\n\u001b[0m\u001b[1;32m     16\u001b[0m \u001b[0mX\u001b[0m \u001b[0;34m=\u001b[0m \u001b[0mX\u001b[0m\u001b[0;34m.\u001b[0m\u001b[0mreshape\u001b[0m\u001b[0;34m(\u001b[0m\u001b[0;34m(\u001b[0m\u001b[0mX\u001b[0m\u001b[0;34m.\u001b[0m\u001b[0mshape\u001b[0m\u001b[0;34m[\u001b[0m\u001b[0;36m0\u001b[0m\u001b[0;34m]\u001b[0m\u001b[0;34m,\u001b[0m \u001b[0mX\u001b[0m\u001b[0;34m.\u001b[0m\u001b[0mshape\u001b[0m\u001b[0;34m[\u001b[0m\u001b[0;36m1\u001b[0m\u001b[0;34m]\u001b[0m\u001b[0;34m,\u001b[0m \u001b[0;36m1\u001b[0m\u001b[0;34m)\u001b[0m\u001b[0;34m)\u001b[0m  \u001b[0;31m# Reshaping for LSTM\u001b[0m\u001b[0;34m\u001b[0m\u001b[0;34m\u001b[0m\u001b[0m\n",
      "\u001b[0;32m<ipython-input-22-73caa72f3ce9>\u001b[0m in \u001b[0;36mprocess_audio_files\u001b[0;34m(audio_paths)\u001b[0m\n\u001b[1;32m      4\u001b[0m     \u001b[0mlabels\u001b[0m \u001b[0;34m=\u001b[0m \u001b[0;34m[\u001b[0m\u001b[0;34m]\u001b[0m\u001b[0;34m\u001b[0m\u001b[0;34m\u001b[0m\u001b[0m\n\u001b[1;32m      5\u001b[0m     \u001b[0;32mfor\u001b[0m \u001b[0mfile_path\u001b[0m \u001b[0;32min\u001b[0m \u001b[0maudio_paths\u001b[0m\u001b[0;34m:\u001b[0m\u001b[0;34m\u001b[0m\u001b[0;34m\u001b[0m\u001b[0m\n\u001b[0;32m----> 6\u001b[0;31m         \u001b[0mmfcc_features\u001b[0m \u001b[0;34m=\u001b[0m \u001b[0mextract_mfcc\u001b[0m\u001b[0;34m(\u001b[0m\u001b[0mfile_path\u001b[0m\u001b[0;34m)\u001b[0m\u001b[0;34m\u001b[0m\u001b[0;34m\u001b[0m\u001b[0m\n\u001b[0m\u001b[1;32m      7\u001b[0m         \u001b[0mfeatures\u001b[0m\u001b[0;34m.\u001b[0m\u001b[0mappend\u001b[0m\u001b[0;34m(\u001b[0m\u001b[0mmfcc_features\u001b[0m\u001b[0;34m)\u001b[0m\u001b[0;34m\u001b[0m\u001b[0;34m\u001b[0m\u001b[0m\n\u001b[1;32m      8\u001b[0m \u001b[0;34m\u001b[0m\u001b[0m\n",
      "\u001b[0;31mNameError\u001b[0m: name 'extract_mfcc' is not defined"
     ]
    }
   ],
   "source": [
    "# Assuming labels are the last part of the filename, such as 'happy.wav'\n",
    "def process_audio_files(audio_paths):\n",
    "    features = []\n",
    "    labels = []\n",
    "    for file_path in audio_paths:\n",
    "        mfcc_features = extract_mfcc(file_path)\n",
    "        features.append(mfcc_features)\n",
    "        \n",
    "        # Extract the emotion label from the file name\n",
    "        label = file_path.split(\"/\")[-1].split(\".\")[0]  # Extract emotion label from filename\n",
    "        labels.append(label)\n",
    "    \n",
    "    return np.array(features), np.array(labels)\n",
    "\n",
    "X, y = process_audio_files(audio_paths)\n",
    "X = X.reshape((X.shape[0], X.shape[1], 1))  # Reshaping for LSTM\n"
   ]
  },
  {
   "cell_type": "code",
   "execution_count": null,
   "id": "8d3d0e3a",
   "metadata": {
    "execution": {
     "iopub.execute_input": "2025-01-11T12:48:25.234614Z",
     "iopub.status.busy": "2025-01-11T12:48:25.234270Z",
     "iopub.status.idle": "2025-01-11T12:48:25.240532Z",
     "shell.execute_reply": "2025-01-11T12:48:25.239176Z",
     "shell.execute_reply.started": "2025-01-11T12:48:25.234589Z"
    },
    "papermill": {
     "duration": null,
     "end_time": null,
     "exception": null,
     "start_time": null,
     "status": "pending"
    },
    "tags": []
   },
   "outputs": [],
   "source": [
    "print(X.shape)\n",
    "print(y.shape)"
   ]
  },
  {
   "cell_type": "code",
   "execution_count": null,
   "id": "6d1d40db",
   "metadata": {
    "execution": {
     "iopub.execute_input": "2025-01-11T12:49:27.634407Z",
     "iopub.status.busy": "2025-01-11T12:49:27.633993Z",
     "iopub.status.idle": "2025-01-11T12:49:27.639904Z",
     "shell.execute_reply": "2025-01-11T12:49:27.638731Z",
     "shell.execute_reply.started": "2025-01-11T12:49:27.634379Z"
    },
    "papermill": {
     "duration": null,
     "end_time": null,
     "exception": null,
     "start_time": null,
     "status": "pending"
    },
    "tags": []
   },
   "outputs": [],
   "source": [
    "print(X.dtype)\n",
    "print(y.dtype)\n"
   ]
  },
  {
   "cell_type": "code",
   "execution_count": null,
   "id": "0d36a59b",
   "metadata": {
    "execution": {
     "iopub.execute_input": "2025-01-11T12:49:28.314417Z",
     "iopub.status.busy": "2025-01-11T12:49:28.314032Z",
     "iopub.status.idle": "2025-01-11T12:49:28.319455Z",
     "shell.execute_reply": "2025-01-11T12:49:28.318364Z",
     "shell.execute_reply.started": "2025-01-11T12:49:28.314388Z"
    },
    "papermill": {
     "duration": null,
     "end_time": null,
     "exception": null,
     "start_time": null,
     "status": "pending"
    },
    "tags": []
   },
   "outputs": [],
   "source": [
    "from sklearn.preprocessing import LabelEncoder\n",
    "y = LabelEncoder().fit_transform(y)"
   ]
  },
  {
   "cell_type": "code",
   "execution_count": null,
   "id": "8e094a65",
   "metadata": {
    "execution": {
     "iopub.execute_input": "2025-01-11T12:49:29.194428Z",
     "iopub.status.busy": "2025-01-11T12:49:29.194030Z",
     "iopub.status.idle": "2025-01-11T12:49:29.199829Z",
     "shell.execute_reply": "2025-01-11T12:49:29.198753Z",
     "shell.execute_reply.started": "2025-01-11T12:49:29.194397Z"
    },
    "papermill": {
     "duration": null,
     "end_time": null,
     "exception": null,
     "start_time": null,
     "status": "pending"
    },
    "tags": []
   },
   "outputs": [],
   "source": [
    "print(f\"Shape of X before reshaping: {np.array(X).shape}\")"
   ]
  },
  {
   "cell_type": "code",
   "execution_count": null,
   "id": "c3e5f0f6",
   "metadata": {
    "execution": {
     "iopub.execute_input": "2025-01-11T12:49:29.794393Z",
     "iopub.status.busy": "2025-01-11T12:49:29.793977Z",
     "iopub.status.idle": "2025-01-11T12:49:29.798964Z",
     "shell.execute_reply": "2025-01-11T12:49:29.797790Z",
     "shell.execute_reply.started": "2025-01-11T12:49:29.794363Z"
    },
    "papermill": {
     "duration": null,
     "end_time": null,
     "exception": null,
     "start_time": null,
     "status": "pending"
    },
    "tags": []
   },
   "outputs": [],
   "source": [
    "X = np.array(X)\n",
    "X = X.reshape((X.shape[0], X.shape[1], 1))"
   ]
  },
  {
   "cell_type": "code",
   "execution_count": null,
   "id": "70231fc4",
   "metadata": {
    "execution": {
     "iopub.execute_input": "2025-01-11T12:58:56.996937Z",
     "iopub.status.busy": "2025-01-11T12:58:56.996528Z",
     "iopub.status.idle": "2025-01-11T12:59:01.670621Z",
     "shell.execute_reply": "2025-01-11T12:59:01.669779Z",
     "shell.execute_reply.started": "2025-01-11T12:58:56.996905Z"
    },
    "papermill": {
     "duration": null,
     "end_time": null,
     "exception": null,
     "start_time": null,
     "status": "pending"
    },
    "tags": []
   },
   "outputs": [],
   "source": [
    "import numpy as np\n",
    "from tensorflow.keras.models import Sequential\n",
    "from tensorflow.keras.layers import Dense, LSTM, Dropout\n",
    "from tensorflow.keras.optimizers import Adam\n",
    "from tensorflow.keras.callbacks import EarlyStopping\n",
    "\n",
    "# Build the RNN model\n",
    "model = Sequential()\n",
    "model.add(LSTM(128, return_sequences=True, input_shape=(13, 1)))  # 13 timesteps, 1 feature\n",
    "model.add(Dropout(0.2))\n",
    "model.add(LSTM(128))\n",
    "model.add(Dropout(0.2))\n",
    "model.add(Dense(64, activation='relu'))\n",
    "model.add(Dense(len(set(y)), activation='softmax'))  # Ensure `y` is preprocessed correctly\n",
    "\n",
    "# Compile the model\n",
    "model.compile(optimizer=Adam(learning_rate=0.0005), loss='sparse_categorical_crossentropy', metrics=['accuracy'])\n",
    "\n",
    "# Add an early stopping mechanism\n",
    "early_stopping = EarlyStopping(monitor='val_loss', patience=5, restore_best_weights=True)\n",
    "\n",
    "# Train the model\n",
    "history = model.fit(\n",
    "    X, \n",
    "    y, \n",
    "    epochs=10,  # Reduced for hardware constraints\n",
    "    batch_size=32, \n",
    "    validation_split=0.2, \n",
    "    callbacks=[early_stopping]\n",
    ")\n"
   ]
  },
  {
   "cell_type": "code",
   "execution_count": null,
   "id": "3ae3dfee",
   "metadata": {
    "papermill": {
     "duration": null,
     "end_time": null,
     "exception": null,
     "start_time": null,
     "status": "pending"
    },
    "tags": []
   },
   "outputs": [],
   "source": []
  }
 ],
 "metadata": {
  "kaggle": {
   "accelerator": "none",
   "dataSources": [
    {
     "datasetId": 6254450,
     "sourceId": 10134137,
     "sourceType": "datasetVersion"
    }
   ],
   "dockerImageVersionId": 30822,
   "isGpuEnabled": false,
   "isInternetEnabled": true,
   "language": "python",
   "sourceType": "notebook"
  },
  "kernelspec": {
   "display_name": "Python 3",
   "language": "python",
   "name": "python3"
  },
  "language_info": {
   "codemirror_mode": {
    "name": "ipython",
    "version": 3
   },
   "file_extension": ".py",
   "mimetype": "text/x-python",
   "name": "python",
   "nbconvert_exporter": "python",
   "pygments_lexer": "ipython3",
   "version": "3.10.12"
  },
  "papermill": {
   "default_parameters": {},
   "duration": 5.463787,
   "end_time": "2025-01-11T13:10:18.024441",
   "environment_variables": {},
   "exception": true,
   "input_path": "__notebook__.ipynb",
   "output_path": "__notebook__.ipynb",
   "parameters": {},
   "start_time": "2025-01-11T13:10:12.560654",
   "version": "2.6.0"
  }
 },
 "nbformat": 4,
 "nbformat_minor": 5
}
